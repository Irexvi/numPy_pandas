{
 "cells": [
  {
   "cell_type": "code",
   "execution_count": 3,
   "id": "59bb3c36",
   "metadata": {},
   "outputs": [],
   "source": [
    "\"\"\"\"\n",
    "Dependiendo de sus dimensiones, se llaman: 1 escalar, 2 Matriz, D>=3 Tensor\n",
    "\"\"\"\n",
    "import numpy as np"
   ]
  },
  {
   "cell_type": "code",
   "execution_count": 5,
   "id": "c57c2b23",
   "metadata": {},
   "outputs": [
    {
     "data": {
      "text/plain": [
       "0"
      ]
     },
     "execution_count": 5,
     "metadata": {},
     "output_type": "execute_result"
    }
   ],
   "source": [
    "scalar = np.array(42)\n",
    "scalar.ndim"
   ]
  },
  {
   "cell_type": "code",
   "execution_count": 6,
   "id": "e3ad3abd",
   "metadata": {},
   "outputs": [
    {
     "data": {
      "text/plain": [
       "1"
      ]
     },
     "execution_count": 6,
     "metadata": {},
     "output_type": "execute_result"
    }
   ],
   "source": [
    "vector = np.array([42,43])\n",
    "vector.ndim"
   ]
  },
  {
   "cell_type": "code",
   "execution_count": 8,
   "id": "d23c6b9f",
   "metadata": {},
   "outputs": [
    {
     "data": {
      "text/plain": [
       "2"
      ]
     },
     "execution_count": 8,
     "metadata": {},
     "output_type": "execute_result"
    }
   ],
   "source": [
    "matriz = np.array([[42,43],[44,45]])\n",
    "matriz.ndim"
   ]
  },
  {
   "cell_type": "code",
   "execution_count": 9,
   "id": "a2ad6f4a",
   "metadata": {},
   "outputs": [
    {
     "data": {
      "text/plain": [
       "3"
      ]
     },
     "execution_count": 9,
     "metadata": {},
     "output_type": "execute_result"
    }
   ],
   "source": [
    "tensor = np.array([[[42,43],[44,45]],[[46,47],[48,49]]])\n",
    "tensor.ndim"
   ]
  },
  {
   "cell_type": "markdown",
   "id": "b5aa09dc",
   "metadata": {},
   "source": [
    "## Insertar o eliminar dimensiones."
   ]
  },
  {
   "cell_type": "code",
   "execution_count": 10,
   "id": "5bb9462d",
   "metadata": {},
   "outputs": [
    {
     "data": {
      "text/plain": [
       "array([[[[[[[[[[1, 2, 3]]]]]]]]]])"
      ]
     },
     "execution_count": 10,
     "metadata": {},
     "output_type": "execute_result"
    }
   ],
   "source": [
    "# Sumar dimensiones seteando un mínimo.\n",
    "vector = np.array([1,2,3],ndmin=10)\n",
    "vector"
   ]
  },
  {
   "cell_type": "code",
   "execution_count": 17,
   "id": "08544f30",
   "metadata": {},
   "outputs": [
    {
     "data": {
      "text/plain": [
       "array([[1, 2, 3]])"
      ]
     },
     "execution_count": 17,
     "metadata": {},
     "output_type": "execute_result"
    }
   ],
   "source": [
    "# Expandir una dimensión en axis = 0 (COLUMNAS) o 1 (FILAS)\n",
    "expand = np.expand_dims(np.array([1,2,3]),axis=0)\n",
    "expand"
   ]
  },
  {
   "cell_type": "code",
   "execution_count": 18,
   "id": "a32e8c6b",
   "metadata": {},
   "outputs": [
    {
     "name": "stdout",
     "output_type": "stream",
     "text": [
      "[[[[[[[[[[1 2 3]]]]]]]]]] 10\n",
      "[1 2 3] 1\n"
     ]
    }
   ],
   "source": [
    "print(vector,vector.ndim)\n",
    "# Reducir la dimensionalidad de mis tensores con numPy.\n",
    "vector_2 = np.squeeze(vector)\n",
    "print(vector_2,vector_2.ndim)"
   ]
  }
 ],
 "metadata": {
  "kernelspec": {
   "display_name": "Python 3 (ipykernel)",
   "language": "python",
   "name": "python3"
  },
  "language_info": {
   "codemirror_mode": {
    "name": "ipython",
    "version": 3
   },
   "file_extension": ".py",
   "mimetype": "text/x-python",
   "name": "python",
   "nbconvert_exporter": "python",
   "pygments_lexer": "ipython3",
   "version": "3.9.7"
  }
 },
 "nbformat": 4,
 "nbformat_minor": 5
}
