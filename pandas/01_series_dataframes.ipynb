{
 "cells": [
  {
   "cell_type": "code",
   "execution_count": 1,
   "id": "bb43550f",
   "metadata": {},
   "outputs": [],
   "source": [
    "import pandas as pd"
   ]
  },
  {
   "cell_type": "code",
   "execution_count": 7,
   "id": "21d06f23",
   "metadata": {},
   "outputs": [],
   "source": [
    "psg_players = pd.Series(['Navas',\n",
    "                         'Mbpappe',\n",
    "                         'Messi',\n",
    "                         'Neymar'],index=[1,7,10,30]\n",
    "                       )"
   ]
  },
  {
   "cell_type": "code",
   "execution_count": 8,
   "id": "b62375a5",
   "metadata": {},
   "outputs": [
    {
     "data": {
      "text/plain": [
       "1       Navas\n",
       "7     Mbpappe\n",
       "10      Messi\n",
       "30     Neymar\n",
       "dtype: object"
      ]
     },
     "execution_count": 8,
     "metadata": {},
     "output_type": "execute_result"
    }
   ],
   "source": [
    "psg_players"
   ]
  },
  {
   "cell_type": "code",
   "execution_count": 9,
   "id": "dc2d58a8",
   "metadata": {},
   "outputs": [
    {
     "data": {
      "text/plain": [
       "1      Navas\n",
       "7     Mbappe\n",
       "10    Neymar\n",
       "30     Messi\n",
       "dtype: object"
      ]
     },
     "execution_count": 9,
     "metadata": {},
     "output_type": "execute_result"
    }
   ],
   "source": [
    "diccionario = {1:'Navas', 7:'Mbappe', 10:'Neymar', 30:'Messi'}\n",
    "pd.Series(diccionario) # Para una estrucutra de 1 dimension"
   ]
  },
  {
   "cell_type": "code",
   "execution_count": 11,
   "id": "6d0b059e",
   "metadata": {},
   "outputs": [
    {
     "data": {
      "text/plain": [
       "1       Navas\n",
       "7     Mbpappe\n",
       "10      Messi\n",
       "dtype: object"
      ]
     },
     "execution_count": 11,
     "metadata": {},
     "output_type": "execute_result"
    }
   ],
   "source": [
    "psg_players[0:3]"
   ]
  },
  {
   "cell_type": "code",
   "execution_count": 16,
   "id": "409eda17",
   "metadata": {},
   "outputs": [
    {
     "data": {
      "text/plain": [
       "{'Jugador': ['Navas', 'Mbpappe', 'Messi', 'Neymar'],\n",
       " 'Altura': [183.0, 170.0, 170.0, 165.0],\n",
       " 'Goles': [2, 200, 200, 200]}"
      ]
     },
     "execution_count": 16,
     "metadata": {},
     "output_type": "execute_result"
    }
   ],
   "source": [
    "{'Jugador':['Navas','Mbpappe','Messi','Neymar'], \n",
    " 'Altura':[183.0,170.0,170.0,165.0],\n",
    " 'Goles':[2,200,200,200]\n",
    "}"
   ]
  },
  {
   "cell_type": "code",
   "execution_count": 27,
   "id": "f09c63a5",
   "metadata": {},
   "outputs": [],
   "source": [
    "df_players = pd.DataFrame({'Jugador':['Navas','Mbpappe','Messi','Neymar'], \n",
    " 'Altura':[183.0,170.0,170.0,165.0],\n",
    " 'Goles':[2,200,200,200]\n",
    "},index=(1,7,30,10)) #DataFramed para una estrucutra de 2 dimensiones."
   ]
  },
  {
   "cell_type": "code",
   "execution_count": 28,
   "id": "2d30c826",
   "metadata": {},
   "outputs": [
    {
     "data": {
      "text/plain": [
       "Index(['Jugador', 'Altura', 'Goles'], dtype='object')"
      ]
     },
     "execution_count": 28,
     "metadata": {},
     "output_type": "execute_result"
    }
   ],
   "source": [
    "df_players.index # Muestra todos los indices a nivel de filas\n",
    "df_players.columns # Muestra el nombre de todas las columnas"
   ]
  },
  {
   "cell_type": "code",
   "execution_count": 49,
   "id": "c71718a8",
   "metadata": {},
   "outputs": [
    {
     "data": {
      "text/plain": [
       "Jugador    Neymar\n",
       "Altura      165.0\n",
       "Goles         200\n",
       "Name: 10, dtype: object"
      ]
     },
     "execution_count": 49,
     "metadata": {},
     "output_type": "execute_result"
    }
   ],
   "source": [
    "df_players.iloc[3]"
   ]
  },
  {
   "cell_type": "code",
   "execution_count": null,
   "id": "acf5e8ac",
   "metadata": {},
   "outputs": [],
   "source": []
  },
  {
   "cell_type": "code",
   "execution_count": null,
   "id": "7480148d",
   "metadata": {},
   "outputs": [],
   "source": []
  }
 ],
 "metadata": {
  "kernelspec": {
   "display_name": "Python 3",
   "language": "python",
   "name": "python3"
  },
  "language_info": {
   "codemirror_mode": {
    "name": "ipython",
    "version": 3
   },
   "file_extension": ".py",
   "mimetype": "text/x-python",
   "name": "python",
   "nbconvert_exporter": "python",
   "pygments_lexer": "ipython3",
   "version": "3.8.8"
  }
 },
 "nbformat": 4,
 "nbformat_minor": 5
}
